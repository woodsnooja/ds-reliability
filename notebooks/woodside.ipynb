{
 "cells": [
  {
   "cell_type": "code",
   "execution_count": 1,
   "metadata": {},
   "outputs": [
    {
     "name": "stdout",
     "output_type": "stream",
     "text": [
      "Environment set to \"prod\".\n",
      "Authentication enabled.\n"
     ]
    }
   ],
   "source": [
    "import WELdatalake as wdl\n",
    "import pandas as pd\n",
    "import os"
   ]
  },
  {
   "cell_type": "code",
   "execution_count": 2,
   "metadata": {},
   "outputs": [],
   "source": [
    "COLUMN_MAPPING = {\n",
    "    \"work_order_number\": \"id\",\n",
    "    \"work_order_text\": \"description\",\n",
    "    \"work_order_type_code\": \"wo_order_type\",\n",
    "    \"work_order_actual_cost\": \"total_actual_costs\",\n",
    "    \"work_order_actual_start_date\": \"actual_start_date\",\n",
    "    \"work_order_actual_finish_date\": \"actual_finish_date\",\n",
    "    \"functional_location_text\" : \"functional_loc_desc\",\n",
    "    \"functional_location_code\": \"functional_loc\"\n",
    "}"
   ]
  },
  {
   "cell_type": "code",
   "execution_count": 3,
   "metadata": {},
   "outputs": [
    {
     "name": "stderr",
     "output_type": "stream",
     "text": [
      "2022-09-09 10:02:45 [INFO] Sending POST request to https://api-ukniteedata.data.woodside/api/v2/snowflake/statements\n",
      "2022-09-09 10:02:49 [INFO] Sending GET request to https://api-ukniteedata.data.woodside/api/v2/snowflake/statements/01a6d7fa-3201-1508-0000-6d35094ab936?partition=1\n",
      "/home/wde.woodside.com.au/w47077/.local/share/virtualenvs/ds-reliability-1-zAS3XUEA/lib/python3.8/site-packages/WELdatalake/_ukniteeDataApi.py:341: FutureWarning: The frame.append method is deprecated and will be removed from pandas in a future version. Use pandas.concat instead.\n",
      "  allData = allData.append(data, ignore_index=True)\n"
     ]
    }
   ],
   "source": [
    "def extract():\n",
    "    return wdl.custom.plant_maintenance_get(\n",
    "        fields = list(COLUMN_MAPPING.keys()),\n",
    "        filter = \"FUNCTIONAL_LOCATION_OBJECT_TYPE_CODE = 'MEFU' AND audit_record_active_flag = 'Y'\"\n",
    "        )\n",
    "data = extract()"
   ]
  },
  {
   "cell_type": "code",
   "execution_count": 4,
   "metadata": {},
   "outputs": [
    {
     "data": {
      "text/plain": [
       "Index(['id', 'description', 'wo_order_type', 'total_actual_costs',\n",
       "       'actual_start_date', 'actual_finish_date', 'functional_loc_desc',\n",
       "       'functional_loc'],\n",
       "      dtype='object')"
      ]
     },
     "execution_count": 4,
     "metadata": {},
     "output_type": "execute_result"
    }
   ],
   "source": [
    "def transform(df: pd.DataFrame):\n",
    "    data = df.copy()\n",
    "    data.columns = data.columns.str.lower()\n",
    "    data.rename(\n",
    "        columns = COLUMN_MAPPING,\n",
    "        inplace = True\n",
    "    )\n",
    "\n",
    "    return data\n",
    "\n",
    "data = transform(data)\n",
    "data.columns"
   ]
  },
  {
   "cell_type": "code",
   "execution_count": 5,
   "metadata": {},
   "outputs": [],
   "source": [
    "def load(df: pd.DataFrame, name:str,):\n",
    "    data.to_csv(\n",
    "        os.path.join(\"..\",\"data\",name)\n",
    "        )\n",
    "load(data, \"MEFU.csv\")"
   ]
  }
 ],
 "metadata": {
  "interpreter": {
   "hash": "42f2d3919889f8ca1a552aaf6a34aab12fea3b2a62517d1b81fea0038aa57b4b"
  },
  "kernelspec": {
   "display_name": "Python 3.8.10 ('ds-reliability-1-zAS3XUEA')",
   "language": "python",
   "name": "python3"
  },
  "language_info": {
   "codemirror_mode": {
    "name": "ipython",
    "version": 3
   },
   "file_extension": ".py",
   "mimetype": "text/x-python",
   "name": "python",
   "nbconvert_exporter": "python",
   "pygments_lexer": "ipython3",
   "version": "3.8.10"
  },
  "orig_nbformat": 4
 },
 "nbformat": 4,
 "nbformat_minor": 2
}
